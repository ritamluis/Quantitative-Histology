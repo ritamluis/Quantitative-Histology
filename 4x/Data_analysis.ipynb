{
 "metadata": {
  "name": "",
  "signature": "sha256:9cd3ab0afcb29eac6d6bd69a7801fa0762bc2b9f4f4135e6340765e9e0ce06ef"
 },
 "nbformat": 3,
 "nbformat_minor": 0,
 "worksheets": [
  {
   "cells": [
    {
     "cell_type": "code",
     "collapsed": false,
     "input": [
      "import numpy as np\n",
      "from matplotlib import rcParams\n",
      "import matplotlib.pyplot as plt\n",
      "import seaborn\n",
      "import pandas as pd\n",
      "import itertools\n",
      "import os\n",
      "from sklearn import linear_model, ensemble, decomposition, cross_validation, preprocessing\n",
      "from statsmodels.regression.mixed_linear_model import MixedLM\n",
      "import statsmodels\n",
      "import statsmodels.api as sm\n",
      "from statsmodels.regression.linear_model import OLSResults\n",
      "from statsmodels.tools.tools import add_constant\n",
      "from sklearn.neighbors import KernelDensity\n",
      "\n",
      "from mpl_toolkits.mplot3d import Axes3D, proj3d\n",
      "\n",
      "print statsmodels.__version__\n",
      "\n",
      "%matplotlib inline\n",
      "rcParams[\"figure.figsize\"] = (14, 8)\n",
      "\n",
      "rcParams[\"text.usetex\"] = False\n",
      "rcParams[\"xtick.labelsize\"] = 12\n",
      "rcParams[\"ytick.labelsize\"] = 12\n",
      "rcParams[\"font.size\"] = 14\n",
      "rcParams[\"axes.titlesize\"] = 16\n",
      "#rcParams[\"text.usetex\"] = False\n",
      "rcParams[\"font.family\"] = \"Serif\"\n",
      "rcParams[\"figure.dpi\"] = 600"
     ],
     "language": "python",
     "metadata": {},
     "outputs": [
      {
       "output_type": "stream",
       "stream": "stdout",
       "text": [
        "0.7.0.dev-c8e980d\n"
       ]
      }
     ],
     "prompt_number": 1
    },
    {
     "cell_type": "code",
     "collapsed": false,
     "input": [
      "# RAW DATA\n",
      "\n",
      "raw_physical = pd.read_csv(\"../data/physical.csv\")\n",
      "raw_histo = pd.read_csv(\"../data/tawfik.csv\")\n",
      "ent = pd.read_csv(\"results/entropy.csv\").drop([\"Unnamed: 0\"], 1)\n",
      "foci = pd.read_csv(\"results/foci.csv\").drop([\"Unnamed: 0\"], 1)\n",
      "lac = pd.read_csv(\"results/normalised_lacunarity.csv\").drop([\"Unnamed: 0\"], 1)\n",
      "gabor = pd.read_csv(\"results/gabor_filters.csv\").drop([\"Unnamed: 0\"], 1)\n",
      "ts = pd.read_csv(\"results/tissue_sinusoid_ratio.csv\").drop([\"Unnamed: 0\"], 1)\n",
      "blur = pd.read_csv(\"results/blur.csv\").drop([\"Unnamed: 0\"], 1)\n",
      "distances = pd.read_csv(\"results/interfoci_dist.csv\").drop([\"Unnamed: 0\"], 1)\n",
      "\n",
      "raw_image = pd.merge(lac, ent,\n",
      "\ton=[\"Sheep\", \"Image\"]).merge(foci, \n",
      "\ton=[\"Sheep\", \"Image\"]).merge(gabor,\n",
      "\ton=[\"Sheep\", \"Image\"]).merge(ts, \n",
      "\ton=[\"Sheep\", \"Image\"]).merge(blur, \n",
      "\ton=[\"Sheep\", \"Image\"]).merge(distances, \n",
      "    on=[\"Sheep\", \"Image\"])\n",
      "raw_image.rename(columns = {\t\"meanSize\" : \"FociSize\", \n",
      "\t\t\t\t\t\t\t\t\"TSRatio\" : \"TissueToSinusoid\",\n",
      "\t\t\t\t\t\t\t\t\"Count\" : \"FociCount\" }, inplace=True)"
     ],
     "language": "python",
     "metadata": {},
     "outputs": [],
     "prompt_number": 2
    },
    {
     "cell_type": "code",
     "collapsed": false,
     "input": [
      "def normalise(df, skip = []) :\n",
      "\tfor i in df.columns :\n",
      "\t\tif i not in skip :\n",
      "\t\t\tdf[i] -= df[i].mean()\n",
      "\t\t\tdf[i] /= df[i].std()\n",
      "\treturn df\n",
      "\n",
      "\n",
      "\n",
      "\n",
      "\n",
      "\n",
      "def rescale(df, skip = []) :\n",
      "    for i in df.columns :\n",
      "        if i not in skip :\n",
      "            df[i] -= df[i].min()\n",
      "            df[i] /= df[i].max()\n",
      "    return df\n",
      "\n",
      "\n",
      "\n",
      "# Remove a layer from a list\n",
      "def delayer(m) :\n",
      "\tout = []\n",
      "\tfor i in m :\n",
      "\t\tif isinstance(i, list) :\n",
      "\t\t\tfor j in i :\n",
      "\t\t\t\tout.append(j)\n",
      "\t\telse :\n",
      "\t\t\tout.append(i)\n",
      "\treturn out\n",
      "\n",
      "\n",
      "\n",
      "\n",
      "\n",
      "\n",
      "\n",
      "# Remove all layers from a list\n",
      "def flatten(m) :\n",
      "\tout = m[:]\n",
      "\n",
      "\twhile out != delayer(out) :\n",
      "\t\tout = delayer(out)\n",
      "\n",
      "\treturn out\n",
      "\n",
      "\n",
      "\n",
      "\n",
      "\n",
      "\n",
      "\n",
      "\n",
      "# Generate all combinations of objects in a list\n",
      "def combinatorial(l, short = np.inf) :\n",
      "\tout = []\n",
      "\n",
      "\tfor numel in range(len(l)) :\n",
      "\t\tfor i in itertools.combinations(l, numel+1) :\n",
      "\t\t\tif len(list(i)) < short :\n",
      "\t\t\t\tout.append(list(i))\n",
      "\n",
      "\treturn out\n",
      "\n",
      "\n",
      "\n",
      "\n",
      "\n",
      "\n",
      "\n",
      "\n",
      "\n",
      "\n",
      "def pcaplot(df) :\n",
      "\n",
      "\t# PCA\n",
      "\tpca = decomposition.PCA(whiten = True)\n",
      "\tpca.fit(df)\n",
      "\tp1 = pca.components_[0] / np.abs(pca.components_[0]).max() * np.sqrt(2)/2\n",
      "\tp2 = pca.components_[1] / np.abs(pca.components_[1]).max() * np.sqrt(2)/2\n",
      "\n",
      "\t# Normalise\n",
      "\tnorms = np.max([np.sqrt((np.array(zip(p1, p2)[i])**2).sum()) for i in range(len(p1))])\n",
      "\tc = plt.Circle( (0, 0), radius = 1, alpha = 0.2)\n",
      "\tplt.axes(aspect = 1)\n",
      "\tplt.gca().add_artist(c)\n",
      "\n",
      "\tplt.scatter(p1 / norms, p2 / norms)\n",
      "\tplt.xlim([-1, 1])\n",
      "\tplt.ylim([-1, 1])\n",
      "\n",
      "\tfor i, text in enumerate(df.columns) :\n",
      "\t\tplt.annotate(text, xy = [p1[i], p2[i]])\n",
      "\n",
      "\tplt.tight_layout()\n",
      "\n",
      "\n",
      "\n",
      "\n",
      "\n",
      "\n",
      "\n",
      "\n",
      "\n",
      "def big_ass_matrix(df, y, x, group = None, short = True) :\n",
      "\n",
      "    independent = combinatorial(x, short)\n",
      "    \n",
      "    models = {}\n",
      "    p = {}\n",
      "    aic = {}\n",
      "    r2 = {}\n",
      "    best = {}\n",
      "    dfs = {}\n",
      "    bestdf = {}\n",
      "    \n",
      "    for dependent in y :\n",
      "        \n",
      "        print \"Regressing for %s\" % dependent\n",
      "        \n",
      "        for covariate in independent :\n",
      "            \n",
      "            if group is None :\n",
      "                \n",
      "                subset = delayer([covariate, dependent])\n",
      "                df2 = df[subset].dropna()\n",
      "                df2[\"Intercept\"] = np.ones(len(df2))\n",
      "                dfs.setdefault(dependent, []).append(df2)\n",
      "                \n",
      "                ols = sm.GLS(endog=df2[dependent], exog=df2[delayer([covariate, \"Intercept\"])]).fit()\n",
      "                \n",
      "                models.setdefault(dependent, []).append(ols)\n",
      "                p.setdefault(dependent, []).append(ols.pvalues[:-1].values)\n",
      "                aic.setdefault(dependent, []).append(ols.aic)\n",
      "                r2.setdefault(dependent, []).append(ols.rsquared)\n",
      "            \n",
      "            else :\n",
      "                \n",
      "                subset = delayer([covariate, dependent, group])\n",
      "                df2 = df[subset].dropna()\n",
      "                dfs.setdefault(dependent, []).append(df2)\n",
      "                \n",
      "                ols = MixedLM.from_formula(rstr(y=dependent, x=covariate), data=df2, groups=df2[group]).fit()\n",
      "                \n",
      "                models.setdefault(dependent, []).append(ols)\n",
      "                aic.setdefault(dependent, []).append(2 * (ols.k_fe + 1) - 2 * ols.llf)\n",
      "                p.setdefault(dependent, []).append(ols.pvalues[1:-1].values)\n",
      "                r2.setdefault(dependent, []).append(mmR2(df2, ols))\n",
      "\n",
      "    \n",
      "       \n",
      "        bestAIC = np.min(aic[dependent])\n",
      "        \n",
      "        for i, val in enumerate(models[dependent]) :\n",
      "            \n",
      "            if aic[dependent][i] < 2 + bestAIC :\n",
      "                \n",
      "                if np.sum(p[dependent][i] > 0.05) == 0 :\n",
      "                    \n",
      "                    if group is None :\n",
      "                        \n",
      "                        best.setdefault(dependent, []).append(val)\n",
      "                        bestdf.setdefault(dependent, []).append(dfs[dependent][i])\n",
      "                        \n",
      "                    else :\n",
      "                        \n",
      "                        if val.random_effects.abs().mean()[0] > 0.01 :\n",
      "                            \n",
      "                            best.setdefault(dependent, []).append(val)\n",
      "                            bestdf.setdefault(dependent, []).append(dfs[dependent][i])\n",
      "       \n",
      "            \n",
      "        if best.has_key(dependent) :\n",
      "            for i, model in enumerate(best[dependent]) :\n",
      "                \n",
      "                if not os.path.exists(\"regressions/%s\" % dependent) :                  \n",
      "                    os.mkdir(\"regressions/%s\" % dependent)\n",
      "                    \n",
      "                if not os.path.exists(\"../talk/figures/regressions/%s\" % dependent) :                  \n",
      "                    os.mkdir(\"../talk/figures/regressions/%s\" % dependent)                \n",
      "\n",
      "                if group is None :\n",
      "\n",
      "                    dfx = bestdf[dependent][i]\n",
      "                    plt.scatter(model.fittedvalues.values, dfx[model.model.endog_names].values, c=seaborn.color_palette(\"deep\", 8)[0])\n",
      "                    plt.plot(dfx[model.model.endog_names].values, dfx[model.model.endog_names].values, c=seaborn.color_palette(\"deep\", 8)[2])\n",
      "                    plt.ylabel(model.model.endog_names)\n",
      "                    yl = model.model.exog_names[:]\n",
      "                    yl.remove(\"Intercept\")\n",
      "                    plt.xlabel(\"Estimate using \" + \", \".join(yl))\n",
      "                    plt.title(rstr(dependent, model.model.exog_names).replace(\" + Intercept\", \"\"))\n",
      "                    #plt.title(r\"$R^2$ = %.02f\" % model.rsquared)\n",
      "                    st = (\"$R^2$ = %.03f\\n\\n\"% model.rsquared)\n",
      "                    for coefnum, coef in enumerate(yl) :\n",
      "                        st += (\"%s\" % coef)\n",
      "                        st += (\" : %.03f\\n\" % model.params[coef])\n",
      "                        st += (\"$p$ = %.01e\\n\\n\" % model.pvalues[coefnum])\n",
      "                    #plt.suptitle(st)\n",
      "                    plt.text(0.01, .99, st, va=\"top\", ha=\"left\")\n",
      "                    plt.xlim([-0.05, 1.05])\n",
      "                    plt.ylim([-0.05, 1.05])\n",
      "                    plt.savefig(\"regressions/%s/lm-%d.pdf\" % (dependent, i))\n",
      "                    plt.savefig(\"../talk/figures/regressions/%s/lm-%d.png\" % (dependent, i), dpi=300, jpeg_quality=90)\n",
      "                    plt.close()\n",
      "\n",
      "                else :\n",
      "                    dfx = bestdf[dependent][i]\n",
      "                    y, yhat = mmPredict(model.model.data.frame, model)\n",
      "                    plt.scatter(yhat, y, c=seaborn.color_palette(\"deep\", 8)[0])\n",
      "                    plt.plot(y, y, c=seaborn.color_palette(\"deep\", 8)[2])\n",
      "                    plt.ylabel(model.model.endog_names)\n",
      "                    yl = model.model.exog_names[:]\n",
      "                    yl.remove(\"Intercept\")\n",
      "                    plt.xlabel(\"Estimate using \" + \", \".join(yl))\n",
      "                    plt.title(rstr(dependent, model.model.exog_names).replace(\"Intercept + \", \"\"))\n",
      "                    \n",
      "                    #plt.title(r\"$R^2$ = %.02f\" % mmR2(dfx, model))\n",
      "                    st = (\"$R^2$ = %.03f\\n\\n\" % mmR2(dfx, model))\n",
      "                    for coefnum, coef in enumerate(yl) :\n",
      "                        st += coef\n",
      "                        st += \" : %.03f\\n\" % model.fe_params[1+coefnum]\n",
      "                        st += \"$p$ = %.01e\\n\\n\" % model.pvalues[coef]\n",
      "                    st += (\"Avg. abs. RE coef. : %.03f\" % model.random_effects.abs().mean())\n",
      "                    plt.text(0.01, .99, st, va=\"top\", ha=\"left\")\n",
      "                    \n",
      "                    plt.xlim([-0.05, 1.05])\n",
      "                    plt.ylim([-0.05, 1.05])\n",
      "                    plt.savefig(\"regressions/%s/mm_%d.pdf\" % (dependent, i))\n",
      "                    plt.savefig(\"../talk/figures/regressions/%s/mm_%d.png\" % (dependent, i), dpi=300, jpeg_quality=90)\n",
      "                    plt.close()\n",
      "        \n",
      "    return best, (models, p, r2, aic)\n",
      "    \n",
      "    \n",
      "    \n",
      "    \n",
      "\n",
      "\n",
      "\n",
      "\n",
      "\n",
      "\n",
      "\n",
      "\n",
      "\n",
      "\n",
      "\n",
      "\n",
      "\n",
      "\n",
      "def summary(models) :\n",
      "\n",
      "\t# Generate list of everything\n",
      "\tr2 = np.array([m.r2 for dependent in models.keys() for m in models[dependent]])\n",
      "\tp = np.array([m.f_stat[\"p-value\"] for dependent in models.keys() for m in models[dependent]])\n",
      "\tmod = np.array([m for dependent in models.keys() for m in models[dependent]])\n",
      "\tdependent = np.array([dependent for dependent in models.keys() for m in models[dependent]])\n",
      "\n",
      "\t# Sort by R2\n",
      "\tidx = np.argsort(r2)[::-1]\n",
      "\n",
      "\t# Output string\n",
      "\ts = \"%d significant regressions.\\n\\n\" % len(r2)\n",
      "\ts += \"Ten most correlated :\\n\\n\"\n",
      "\n",
      "\t# Print a summary of the top ten correlations\n",
      "\tfor i in idx[:10] :\n",
      "\t\ts += (\"%s ~ %s\\n\" % (dependent[i], \" + \".join(mod[i].x.columns[:-1])))\n",
      "\t\ts += (\"R^2 = %f\\tp = %f\\n\\n\" % (r2[i], p[i]))\n",
      "\n",
      "\tprint s\n",
      "    \n",
      "    \n",
      "    \n",
      "    \n",
      "    \n",
      "    \n",
      "    \n",
      "def rstr(y, x) :\n",
      "    formatstr = \"%s ~ \" % y\n",
      "    for i in x[:-1] :\n",
      "        formatstr += str(i)\n",
      "        formatstr += \" + \"\n",
      "    formatstr += str(x[-1])\n",
      "    return formatstr\n",
      "\n",
      "\n",
      "\n",
      "\n",
      "\n",
      "\n",
      "\n",
      "\n",
      "\n",
      "def mmR2(df, ols) :\n",
      "\n",
      "    y = df[ols.model.endog_names]\n",
      "    sigma_a = ols.random_effects.values.var()\n",
      "\n",
      "    yhat = np.zeros_like(y)\n",
      "    for i, coef in enumerate(ols.fe_params) :\n",
      "        yhat += ols.model.data.exog[:, i] * coef\n",
      "\n",
      "    sigma_f = yhat.var()\n",
      "\n",
      "    idxx = []\n",
      "    \n",
      "    grouplabel = list(df.columns)\n",
      "    grouplabel.remove(ols.model.endog_names)\n",
      "    remove_these = ols.model.exog_names[:]\n",
      "    remove_these.remove(\"Intercept\")\n",
      "    for i in remove_these :\n",
      "        grouplabel.remove(i)\n",
      "\n",
      "    for j, u in enumerate(ols.model.group_labels) :\n",
      "        idx = np.where(df[grouplabel] == u)[0]\n",
      "        yhat[idx] += ols.random_effects.values[j]\n",
      "\n",
      "    sigma_e = np.var(yhat - y)\n",
      "\n",
      "    return (sigma_f + sigma_a) / (sigma_f + sigma_a + sigma_e)\n",
      "\n",
      "\n",
      "\n",
      "\n",
      "\n",
      "def mmPredict(df, ols) :\n",
      "\n",
      "    y = df[ols.model.endog_names]\n",
      "    sigma_a = ols.random_effects.values.var()\n",
      "\n",
      "    yhat = np.zeros_like(y)\n",
      "    for i, coef in enumerate(ols.fe_params) :\n",
      "        yhat += ols.model.data.exog[:, i] * coef\n",
      "\n",
      "    sigma_f = yhat.var()\n",
      "\n",
      "    idxx = []\n",
      "    \n",
      "    grouplabel = list(df.columns)\n",
      "    grouplabel.remove(ols.model.endog_names)\n",
      "    remove_these = ols.model.exog_names[:]\n",
      "    remove_these.remove(\"Intercept\")\n",
      "    for i in remove_these :\n",
      "        grouplabel.remove(i)\n",
      "\n",
      "    for j, u in enumerate(ols.model.group_labels) :\n",
      "        idx = np.where(df[grouplabel] == u)[0]\n",
      "        yhat[idx] += ols.random_effects.values[j]\n",
      "        \n",
      "    return y, yhat\n",
      "\n",
      "\n",
      "\n",
      "\n",
      "#best, stuff = big_ass_matrix(df=sheep, y=[\"Weight\"], x=imagecols, group=\"AgeAtDeath\", short=True)"
     ],
     "language": "python",
     "metadata": {},
     "outputs": [],
     "prompt_number": 3
    },
    {
     "cell_type": "code",
     "collapsed": false,
     "input": [
      "raw_image.columns"
     ],
     "language": "python",
     "metadata": {},
     "outputs": [
      {
       "metadata": {},
       "output_type": "pyout",
       "prompt_number": 58,
       "text": [
        "Index([u'Sheep', u'Image', u'Lacunarity', u'Entropy', u'FociCount', u'FociSize', u'stdSize', u'Scale', u'Directionality', u'TissueToSinusoid', u'Blur', u'MinDist', u'IFDist'], dtype='object')"
       ]
      }
     ],
     "prompt_number": 58
    },
    {
     "cell_type": "code",
     "collapsed": false,
     "input": [
      "# CLEAN DATA\n",
      "\n",
      "physcols = [\"Weight\", \"Sex\", \"AgeAtDeath\", \"Foreleg\", \"Hindleg\", \"E\", \"CES\", \"RES\"]\n",
      "imagecols = [\"Entropy\", \"Lacunarity\", \"Inflammation\", \"Scale\", \"Directionality\", \"FociCount\", \"FociSize\", \"TissueToSinusoid\", \"Blur\", \"MinDist\", \"IFDist\"]\n",
      "histcols = [\"LobularCollapse\", \"InterfaceHepatitis\", \"ConfluentNecrosis\", \"LnApRi\", \"PortalInflammation\", \"BDHyperplasia\", \"Fibrosis\", \"TawfikTotal\", \"MeanHepSize\", \"MinHepSize\", \"MaxHepSize\"]\n",
      "\n",
      "\n",
      "\n",
      "\n",
      "\n",
      "# IMAGE\n",
      "\n",
      "# Set FociSize to zero if FociCount is zero\n",
      "# Drop stdSize\n",
      "image = raw_image\n",
      "image = image.drop(\"stdSize\", 1)\n",
      "image.FociSize[raw_image.FociCount == 0] = 0\n",
      "\n",
      "\n",
      "\n",
      "# HISTO\n",
      "\n",
      "histo = raw_histo\n",
      "histo = histo.drop([\"Vessels\", \"Vacuol\", \"Pigment\", \"Std_hep_size\"], 1)\n",
      "\n",
      "\n",
      "\n",
      "# PHYSICAL\n",
      "physical = raw_physical\n",
      "physical = physical.drop([\"CurrTag\", \"DeathDate\", \"Category\"], 1)\n",
      "exposure = pd.read_csv(\"../data/exposure.csv\")\n",
      "exposure.rename(columns={\"BirthYear\" : \"BirthYear\", \"AvgOfLambWS\" : \"E\"}, inplace=True)\n",
      "exposure[\"AgeAtDeath\"] = 2011 - exposure.BirthYear\n",
      "exposure.E = np.round(1. - exposure.E, 6)\n",
      "exposure[\"CES\"] = np.flipud(np.flipud(exposure.E).cumsum())\n",
      "exposure[\"RES\"] = np.flipud(np.flipud(exposure.E - exposure.CES / (exposure.AgeAtDeath + 1)).cumsum())\n",
      "physical = pd.merge(physical, exposure, on=\"AgeAtDeath\", how=\"inner\")\n",
      "\n",
      "\n",
      "\n",
      "\n",
      "# COMPLETE DATASET\n",
      "\n",
      "raw_data = pd.merge(pd.merge(image, histo, on=\"Sheep\", how=\"outer\"), physical, on=\"Sheep\", how=\"outer\")\n",
      "raw_data.to_csv(\"../data/tentative_complete.csv\")\n",
      "\n",
      "\n",
      "\n",
      "\n",
      "# AVERAGED BY SHEEP\n",
      "data = raw_data\n",
      "data[\"Inflammation\"] = data.FociCount * data.FociSize\n",
      "\n",
      "sheep = np.round(rescale(data.groupby(\"Sheep\").mean()), 9)\n",
      "\n",
      "\n",
      "\n",
      "sheep.rename(columns = {\"Lobular_collapse\" : \"LobularCollapse\", \n",
      "                        \"Interface_hepatitis\" : \"InterfaceHepatitis\",\n",
      "                        \"Confluent_necrosis\" : \"ConfluentNecrosis\",\n",
      "                        \"Ln_ap_ri\" : \"LnApRi\",\n",
      "                        \"Portal_inflammation\" : \"PortalInflammation\",\n",
      "                        \"BD_hyperplasia\" : \"BDHyperplasia\",\n",
      "                        \"Mean_hep_size\" : \"MeanHepSize\",\n",
      "                        \"Min_hep_size\" : \"MinHepSize\",\n",
      "                        \"Max_hep_size\" : \"MaxHepSize\"}, inplace=True)\n",
      "\n",
      "\n",
      "\n",
      "data.rename(columns = {\"Lobular_collapse\" : \"LobularCollapse\", \n",
      "                        \"Interface_hepatitis\" : \"InterfaceHepatitis\",\n",
      "                        \"Confluent_necrosis\" : \"ConfluentNecrosis\",\n",
      "                        \"Ln_ap_ri\" : \"LnApRi\",\n",
      "                        \"Portal_inflammation\" : \"PortalInflammation\",\n",
      "                        \"BD_hyperplasia\" : \"BDHyperplasia\",\n",
      "                        \"Mean_hep_size\" : \"MeanHepSize\",\n",
      "                        \"Min_hep_size\" : \"MinHepSize\",\n",
      "                        \"Max_hep_size\" : \"MaxHepSize\"}, inplace=True)\n",
      "\n",
      "#age = rescale(data.groupby(\"Sheep\").mean().dropna(subset=delayer([imagecols, histcols, \"AgeAtDeath\"])).groupby(\"AgeAtDeath\").mean())"
     ],
     "language": "python",
     "metadata": {},
     "outputs": [
      {
       "output_type": "stream",
       "stream": "stderr",
       "text": [
        "-c:17: SettingWithCopyWarning: \n",
        "A value is trying to be set on a copy of a slice from a DataFrame\n",
        "\n",
        "See the the caveats in the documentation: http://pandas.pydata.org/pandas-docs/stable/indexing.html#indexing-view-versus-copy\n"
       ]
      }
     ],
     "prompt_number": 4
    },
    {
     "cell_type": "code",
     "collapsed": false,
     "input": [
      "pcols = physcols[:]\n",
      "pcols.remove(\"AgeAtDeath\")\n",
      "\n",
      "print \" -------- 1\"\n",
      "best_lm_phys, stuff_lm_phys = big_ass_matrix(df=sheep, y=physcols, x=imagecols, group=None, short=5)\n",
      "\n",
      "print \" -------- 2\"\n",
      "best_lm_hist, stuff_lm_hist = big_ass_matrix(df=sheep, y=histcols, x=imagecols, group=None, short=5)\n",
      "\n",
      "print \" -------- 3\"\n",
      "best_mm_phys, stuff_mm_phys = big_ass_matrix(df=sheep, y=pcols, x=imagecols, group=\"AgeAtDeath\", short=5)\n",
      "\n",
      "print \" -------- 4\"\n",
      "best_mm_hist, stuff_mm_hist = big_ass_matrix(df=sheep, y=histcols, x=imagecols, group=\"AgeAtDeath\", short=5)"
     ],
     "language": "python",
     "metadata": {},
     "outputs": [
      {
       "output_type": "stream",
       "stream": "stdout",
       "text": [
        " -------- 1\n",
        "Regressing for Weight\n",
        "Regressing for Sex"
       ]
      },
      {
       "output_type": "stream",
       "stream": "stdout",
       "text": [
        "\n",
        "Regressing for AgeAtDeath"
       ]
      },
      {
       "output_type": "stream",
       "stream": "stdout",
       "text": [
        "\n",
        "Regressing for Foreleg"
       ]
      },
      {
       "output_type": "stream",
       "stream": "stdout",
       "text": [
        "\n",
        "Regressing for Hindleg"
       ]
      },
      {
       "output_type": "stream",
       "stream": "stdout",
       "text": [
        "\n",
        "Regressing for E"
       ]
      },
      {
       "output_type": "stream",
       "stream": "stdout",
       "text": [
        "\n",
        "Regressing for CES"
       ]
      },
      {
       "output_type": "stream",
       "stream": "stdout",
       "text": [
        "\n",
        "Regressing for RES"
       ]
      },
      {
       "output_type": "stream",
       "stream": "stdout",
       "text": [
        "\n",
        " -------- 2"
       ]
      },
      {
       "output_type": "stream",
       "stream": "stdout",
       "text": [
        "\n",
        "Regressing for LobularCollapse\n",
        "Regressing for InterfaceHepatitis"
       ]
      },
      {
       "output_type": "stream",
       "stream": "stdout",
       "text": [
        "\n",
        "Regressing for ConfluentNecrosis"
       ]
      },
      {
       "output_type": "stream",
       "stream": "stdout",
       "text": [
        "\n",
        "Regressing for LnApRi"
       ]
      },
      {
       "output_type": "stream",
       "stream": "stdout",
       "text": [
        "\n",
        "Regressing for PortalInflammation"
       ]
      },
      {
       "output_type": "stream",
       "stream": "stdout",
       "text": [
        "\n",
        "Regressing for BDHyperplasia"
       ]
      },
      {
       "output_type": "stream",
       "stream": "stdout",
       "text": [
        "\n",
        "Regressing for Fibrosis"
       ]
      },
      {
       "output_type": "stream",
       "stream": "stdout",
       "text": [
        "\n",
        "Regressing for TawfikTotal"
       ]
      },
      {
       "output_type": "stream",
       "stream": "stdout",
       "text": [
        "\n",
        "Regressing for MeanHepSize"
       ]
      }
     ]
    },
    {
     "cell_type": "code",
     "collapsed": false,
     "input": [
      "y = \"BDHyperplasia\"\n",
      "x = [\"Inflammation\", \"Scale\", \"Directionality\"]\n",
      "\n",
      "dfx = sheep[delayer([x, y, \"AgeAtDeath\"])].dropna()\n",
      "model = MixedLM.from_formula(rstr(y, x), data=dfx, groups=\"AgeAtDeath\").fit()\n",
      "#model = sm.GLS(endog=dfx.Portal_inflammation, exog=dfx[[\"FociSize\", \"AgeAtDeath\"]]).fit()\n",
      "\n",
      "dfx = sheep[[\"BDHyperplasia\", \"Inflammation\", \"AgeAtDeath\"]].dropna()\n",
      "model2 = MixedLM.from_formula(rstr(y, [\"Inflammation\"]), data=dfx, groups=\"AgeAtDeath\").fit()\n",
      "\n",
      "dfx = sheep[[\"BDHyperplasia\", \"FociSize\", \"AgeAtDeath\"]].dropna()\n",
      "model3 = MixedLM.from_formula(rstr(y, [\"FociSize\"]), data=dfx, groups=\"AgeAtDeath\").fit()"
     ],
     "language": "python",
     "metadata": {},
     "outputs": []
    },
    {
     "cell_type": "code",
     "collapsed": false,
     "input": [
      "ss = \"E\"\n",
      "s = np.array([sheep[sheep.AgeAtDeath == model.random_effects.index.values[i]][ss].iloc[0] for i in range(len(model.random_effects.index.values))])\n",
      "s -= s.min()\n",
      "s /= s.max()\n",
      "\n",
      "idx = np.round(s * 2000).astype(int)\n",
      "C = seaborn.color_palette(\"coolwarm\", 2001)\n",
      "CC = []\n",
      "for i in idx :\n",
      "    CC.append(C[i])\n",
      "\n",
      "\n",
      "fig = plt.figure()\n",
      "ax = fig.add_subplot(111, projection='3d')\n",
      "plt.scatter(model.random_effects, model2.random_effects, zs=model3.random_effects, s=450, c=CC, alpha=1)#, c=np.array(C)[idx.astype(int)], alpha=1)\n",
      "plt.title(\"Biliary Hyperplasia : Coefficients of Birth Year Random Effect\\nFirst component of PCA explains 98.3%% of variance.\\nWarmer colours - higher %s\" % ss, y=0.9)\n",
      "\n",
      "for i, sheep_age in enumerate(model.random_effects.index) :\n",
      "    sheep_e = sheep[sheep.AgeAtDeath == sheep_age].E.iloc[0]\n",
      "    x2, y2, _ = proj3d.proj_transform(model.random_effects.values[i], model2.random_effects.values[i], model3.random_effects.values[i], ax.get_proj())\n",
      "    plt.annotate(int(np.round(2011 - sheep_age * 11)), xy=(x2, y2), xytext=(x2-0.0105, y2-0.002))\n",
      "\n",
      "ax.set_axis_bgcolor(\"white\")\n",
      "plt.savefig(\"../talk/figures/regressions/BDHyperplasia/mm_coefs_color_%s.png\" % ss, dpi=600, jpeg_quality=100)"
     ],
     "language": "python",
     "metadata": {},
     "outputs": [
      {
       "metadata": {},
       "output_type": "display_data",
       "png": "[encoded data removed]",
       "text": [
        "<matplotlib.figure.Figure at 0x276d2c110>"
       ]
      }
     ],
     "prompt_number": 12
    },
    {
     "cell_type": "code",
     "collapsed": false,
     "input": [
      "plt.scatter(exposure.BirthYear, exposure.CES)"
     ],
     "language": "python",
     "metadata": {},
     "outputs": [
      {
       "metadata": {},
       "output_type": "pyout",
       "prompt_number": 550,
       "text": [
        "<matplotlib.collections.PathCollection at 0x151a71d90>"
       ]
      },
      {
       "metadata": {},
       "output_type": "display_data",
       "png": "[encoded data removed]",
       "text": [
        "<matplotlib.figure.Figure at 0x1157d6e10>"
       ]
      }
     ],
     "prompt_number": 550
    },
    {
     "cell_type": "code",
     "collapsed": false,
     "input": [
      "plt.scatter(model.random_effects.index.values, idx)"
     ],
     "language": "python",
     "metadata": {},
     "outputs": [
      {
       "metadata": {},
       "output_type": "pyout",
       "prompt_number": 460,
       "text": [
        "<matplotlib.collections.PathCollection at 0x14feaf790>"
       ]
      },
      {
       "metadata": {},
       "output_type": "display_data",
       "png": "[encoded data removed]",
       "text": [
        "<matplotlib.figure.Figure at 0x152e7ad50>"
       ]
      }
     ],
     "prompt_number": 460
    },
    {
     "cell_type": "code",
     "collapsed": false,
     "input": [
      "\n",
      "#plt.plot([sheep[np.round(sheep.AgeAtDeath * 11) == i].E.iloc[0] for i in range(11)])\n",
      "#plt.plot(exposure.AgeAtDeath, exposure.E)\n",
      "C2 = []\n",
      "for i in (np.unique(sheep[[\"AgeAtDeath\", \"BD_hyperplasia\"]].dropna().AgeAtDeath) * 11).astype(int) :\n",
      "    C2.append(sheep[np.round(sheep.AgeAtDeath * 11) == i].E.iloc[0])\n",
      "#sheep[[\"AgeAtDeath\", \"E\"]].dropna()"
     ],
     "language": "python",
     "metadata": {},
     "outputs": [],
     "prompt_number": 370
    },
    {
     "cell_type": "code",
     "collapsed": false,
     "input": [
      "plt.plot(exposure.BirthYear, exposure.E)"
     ],
     "language": "python",
     "metadata": {},
     "outputs": [
      {
       "metadata": {},
       "output_type": "pyout",
       "prompt_number": 401,
       "text": [
        "[<matplotlib.lines.Line2D at 0x14f3002d0>]"
       ]
      },
      {
       "metadata": {},
       "output_type": "display_data",
       "png": "[encoded data removed]",
       "text": [
        "<matplotlib.figure.Figure at 0x14df9c450>"
       ]
      }
     ],
     "prompt_number": 401
    },
    {
     "cell_type": "code",
     "collapsed": false,
     "input": [
      "exposure"
     ],
     "language": "python",
     "metadata": {},
     "outputs": [
      {
       "html": [
        "<div style=\"max-height:1000px;max-width:1500px;overflow:auto;\">\n",
        "<table border=\"1\" class=\"dataframe\">\n",
        "  <thead>\n",
        "    <tr style=\"text-align: right;\">\n",
        "      <th></th>\n",
        "      <th>BirthYear</th>\n",
        "      <th>E</th>\n",
        "      <th>AgeAtDeath</th>\n",
        "      <th>CES</th>\n",
        "      <th>RES</th>\n",
        "    </tr>\n",
        "  </thead>\n",
        "  <tbody>\n",
        "    <tr>\n",
        "      <th>0 </th>\n",
        "      <td> 1995</td>\n",
        "      <td> 0.488722</td>\n",
        "      <td> 16</td>\n",
        "      <td> 11.143270</td>\n",
        "      <td>-0.342905</td>\n",
        "    </tr>\n",
        "    <tr>\n",
        "      <th>1 </th>\n",
        "      <td> 1996</td>\n",
        "      <td> 0.738562</td>\n",
        "      <td> 15</td>\n",
        "      <td> 10.654548</td>\n",
        "      <td>-0.176141</td>\n",
        "    </tr>\n",
        "    <tr>\n",
        "      <th>2 </th>\n",
        "      <td> 1997</td>\n",
        "      <td> 0.769231</td>\n",
        "      <td> 14</td>\n",
        "      <td>  9.915986</td>\n",
        "      <td>-0.248793</td>\n",
        "    </tr>\n",
        "    <tr>\n",
        "      <th>3 </th>\n",
        "      <td> 1998</td>\n",
        "      <td> 0.942408</td>\n",
        "      <td> 13</td>\n",
        "      <td>  9.146755</td>\n",
        "      <td>-0.356959</td>\n",
        "    </tr>\n",
        "    <tr>\n",
        "      <th>4 </th>\n",
        "      <td> 1999</td>\n",
        "      <td> 0.352000</td>\n",
        "      <td> 12</td>\n",
        "      <td>  8.204347</td>\n",
        "      <td>-0.646027</td>\n",
        "    </tr>\n",
        "    <tr>\n",
        "      <th>5 </th>\n",
        "      <td> 2000</td>\n",
        "      <td> 0.333333</td>\n",
        "      <td> 11</td>\n",
        "      <td>  7.852347</td>\n",
        "      <td>-0.366923</td>\n",
        "    </tr>\n",
        "    <tr>\n",
        "      <th>6 </th>\n",
        "      <td> 2001</td>\n",
        "      <td> 0.963415</td>\n",
        "      <td> 10</td>\n",
        "      <td>  7.519014</td>\n",
        "      <td>-0.045894</td>\n",
        "    </tr>\n",
        "    <tr>\n",
        "      <th>7 </th>\n",
        "      <td> 2002</td>\n",
        "      <td> 0.544218</td>\n",
        "      <td>  9</td>\n",
        "      <td>  6.555599</td>\n",
        "      <td>-0.325762</td>\n",
        "    </tr>\n",
        "    <tr>\n",
        "      <th>8 </th>\n",
        "      <td> 2003</td>\n",
        "      <td> 0.258065</td>\n",
        "      <td>  8</td>\n",
        "      <td>  6.011381</td>\n",
        "      <td>-0.214420</td>\n",
        "    </tr>\n",
        "    <tr>\n",
        "      <th>9 </th>\n",
        "      <td> 2004</td>\n",
        "      <td> 0.968627</td>\n",
        "      <td>  7</td>\n",
        "      <td>  5.753316</td>\n",
        "      <td> 0.195446</td>\n",
        "    </tr>\n",
        "    <tr>\n",
        "      <th>10</th>\n",
        "      <td> 2005</td>\n",
        "      <td> 0.784946</td>\n",
        "      <td>  6</td>\n",
        "      <td>  4.784689</td>\n",
        "      <td>-0.054017</td>\n",
        "    </tr>\n",
        "    <tr>\n",
        "      <th>11</th>\n",
        "      <td> 2006</td>\n",
        "      <td> 0.779874</td>\n",
        "      <td>  5</td>\n",
        "      <td>  3.999743</td>\n",
        "      <td>-0.155436</td>\n",
        "    </tr>\n",
        "    <tr>\n",
        "      <th>12</th>\n",
        "      <td> 2007</td>\n",
        "      <td> 0.500000</td>\n",
        "      <td>  4</td>\n",
        "      <td>  3.219869</td>\n",
        "      <td>-0.268686</td>\n",
        "    </tr>\n",
        "    <tr>\n",
        "      <th>13</th>\n",
        "      <td> 2008</td>\n",
        "      <td> 0.608696</td>\n",
        "      <td>  3</td>\n",
        "      <td>  2.719869</td>\n",
        "      <td>-0.124712</td>\n",
        "    </tr>\n",
        "    <tr>\n",
        "      <th>14</th>\n",
        "      <td> 2009</td>\n",
        "      <td> 0.639594</td>\n",
        "      <td>  2</td>\n",
        "      <td>  2.111173</td>\n",
        "      <td>-0.053441</td>\n",
        "    </tr>\n",
        "    <tr>\n",
        "      <th>15</th>\n",
        "      <td> 2010</td>\n",
        "      <td> 0.746479</td>\n",
        "      <td>  1</td>\n",
        "      <td>  1.471579</td>\n",
        "      <td> 0.010690</td>\n",
        "    </tr>\n",
        "    <tr>\n",
        "      <th>16</th>\n",
        "      <td> 2011</td>\n",
        "      <td> 0.725100</td>\n",
        "      <td>  0</td>\n",
        "      <td>  0.725100</td>\n",
        "      <td> 0.000000</td>\n",
        "    </tr>\n",
        "  </tbody>\n",
        "</table>\n",
        "</div>"
       ],
       "metadata": {},
       "output_type": "pyout",
       "prompt_number": 528,
       "text": [
        "    BirthYear         E  AgeAtDeath        CES       RES\n",
        "0        1995  0.488722          16  11.143270 -0.342905\n",
        "1        1996  0.738562          15  10.654548 -0.176141\n",
        "2        1997  0.769231          14   9.915986 -0.248793\n",
        "3        1998  0.942408          13   9.146755 -0.356959\n",
        "4        1999  0.352000          12   8.204347 -0.646027\n",
        "5        2000  0.333333          11   7.852347 -0.366923\n",
        "6        2001  0.963415          10   7.519014 -0.045894\n",
        "7        2002  0.544218           9   6.555599 -0.325762\n",
        "8        2003  0.258065           8   6.011381 -0.214420\n",
        "9        2004  0.968627           7   5.753316  0.195446\n",
        "10       2005  0.784946           6   4.784689 -0.054017\n",
        "11       2006  0.779874           5   3.999743 -0.155436\n",
        "12       2007  0.500000           4   3.219869 -0.268686\n",
        "13       2008  0.608696           3   2.719869 -0.124712\n",
        "14       2009  0.639594           2   2.111173 -0.053441\n",
        "15       2010  0.746479           1   1.471579  0.010690\n",
        "16       2011  0.725100           0   0.725100  0.000000"
       ]
      }
     ],
     "prompt_number": 528
    },
    {
     "cell_type": "code",
     "collapsed": false,
     "input": [
      "plt.text()"
     ],
     "language": "python",
     "metadata": {},
     "outputs": [
      {
       "ename": "TypeError",
       "evalue": "text() takes at least 3 arguments (0 given)",
       "output_type": "pyerr",
       "traceback": [
        "\u001b[0;31m---------------------------------------------------------------------------\u001b[0m\n\u001b[0;31mTypeError\u001b[0m                                 Traceback (most recent call last)",
        "\u001b[0;32m<ipython-input-9-d40150873c3a>\u001b[0m in \u001b[0;36m<module>\u001b[0;34m()\u001b[0m\n\u001b[0;32m----> 1\u001b[0;31m \u001b[0mplt\u001b[0m\u001b[0;34m.\u001b[0m\u001b[0mtext\u001b[0m\u001b[0;34m(\u001b[0m\u001b[0;34m)\u001b[0m\u001b[0;34m\u001b[0m\u001b[0m\n\u001b[0m",
        "\u001b[0;31mTypeError\u001b[0m: text() takes at least 3 arguments (0 given)"
       ]
      }
     ],
     "prompt_number": 9
    },
    {
     "cell_type": "code",
     "collapsed": false,
     "input": [
      "df = sheep[[\"Interface_hepatitis\", \"AgeAtDeath\", \"Entropy\"]].dropna()\n",
      "ols = MixedLM.from_formula(rstr(\"Interface_hepatitis\", [\"Entropy\"]), data=df, groups=df.AgeAtDeath).fit()\n",
      "ols.summary()"
     ],
     "language": "python",
     "metadata": {},
     "outputs": [
      {
       "output_type": "stream",
       "stream": "stderr",
       "text": [
        "/Users/qcaudron/anaconda/lib/python2.7/site-packages/statsmodels-0.7.0-py2.7-macosx-10.5-x86_64.egg/statsmodels/regression/mixed_linear_model.py:1688: ConvergenceWarning: The MLE may be on the boundary of the parameter space.\n",
        "  warnings.warn(msg, ConvergenceWarning)\n"
       ]
      },
      {
       "html": [
        "<table class=\"simpletable\">\n",
        "<tr>\n",
        "       <td>Model:</td>       <td>MixedLM</td> <td>Dependent Variable:</td> <td>Interface_hepatitis</td>\n",
        "</tr>\n",
        "<tr>\n",
        "  <td>No. Observations:</td>   <td>85</td>          <td>Method:</td>              <td>REML</td>        \n",
        "</tr>\n",
        "<tr>\n",
        "     <td>No. Groups:</td>      <td>11</td>          <td>Scale:</td>              <td>0.0903</td>       \n",
        "</tr>\n",
        "<tr>\n",
        "  <td>Min. group size:</td>     <td>1</td>        <td>Likelihood:</td>          <td>-20.8254</td>      \n",
        "</tr>\n",
        "<tr>\n",
        "  <td>Max. group size:</td>    <td>23</td>        <td>Converged:</td>              <td>Yes</td>        \n",
        "</tr>\n",
        "<tr>\n",
        "  <td>Mean group size:</td>    <td>7.7</td>            <td></td>                    <td></td>          \n",
        "</tr>\n",
        "</table>\n",
        "<table class=\"simpletable\">\n",
        "<tr>\n",
        "        <td></td>        <th>Coef.</th> <th>Std.Err.</th>    <th>z</th>   <th>P>|z|</th> <th>[0.025</th> <th>0.975]</th>\n",
        "</tr>\n",
        "<tr>\n",
        "  <th>Intercept</th>    <td>-0.170</td>   <td>0.154</td>  <td>-1.101</td> <td>0.271</td> <td>-0.473</td>  <td>0.133</td>\n",
        "</tr>\n",
        "<tr>\n",
        "  <th>Entropy</th>       <td>0.511</td>   <td>0.206</td>   <td>2.485</td> <td>0.013</td>  <td>0.108</td>  <td>0.914</td>\n",
        "</tr>\n",
        "<tr>\n",
        "  <th>Intercept RE</th>  <td>0.001</td>   <td>0.015</td>     <td></td>      <td></td>       <td></td>       <td></td>   \n",
        "</tr>\n",
        "</table>"
       ],
       "metadata": {},
       "output_type": "pyout",
       "prompt_number": 524,
       "text": [
        "<class 'statsmodels.iolib.summary2.Summary'>\n",
        "\"\"\"\n",
        "              Mixed Linear Model Regression Results\n",
        "=================================================================\n",
        "Model:            MixedLM Dependent Variable: Interface_hepatitis\n",
        "No. Observations: 85      Method:             REML               \n",
        "No. Groups:       11      Scale:              0.0903             \n",
        "Min. group size:  1       Likelihood:         -20.8254           \n",
        "Max. group size:  23      Converged:          Yes                \n",
        "Mean group size:  7.7                                            \n",
        "-------------------------------------------------------------------\n",
        "               Coef.    Std.Err.     z      P>|z|   [0.025   0.975]\n",
        "-------------------------------------------------------------------\n",
        "Intercept      -0.170      0.154   -1.101   0.271   -0.473    0.133\n",
        "Entropy         0.511      0.206    2.485   0.013    0.108    0.914\n",
        "Intercept RE    0.001      0.015                                   \n",
        "=================================================================\n",
        "\n",
        "\"\"\""
       ]
      }
     ],
     "prompt_number": 524
    },
    {
     "cell_type": "code",
     "collapsed": false,
     "input": [
      "print mmR2(df, ols)\n",
      "print ols.random_effects.abs().mean()"
     ],
     "language": "python",
     "metadata": {},
     "outputs": [
      {
       "output_type": "stream",
       "stream": "stdout",
       "text": [
        "0.0700322678299\n",
        "Intercept RE    0.003643\n",
        "dtype: float64\n"
       ]
      }
     ],
     "prompt_number": 525
    },
    {
     "cell_type": "code",
     "collapsed": false,
     "input": [
      "print ols.summary()\n",
      "\n",
      "print ols.bse\n",
      "print ols.bse_re\n",
      "print ols.bse_fe"
     ],
     "language": "python",
     "metadata": {},
     "outputs": [
      {
       "output_type": "stream",
       "stream": "stdout",
       "text": [
        "         Mixed Linear Model Regression Results\n",
        "=======================================================\n",
        "Model:              MixedLM Dependent Variable: Weight \n",
        "No. Observations:   62      Method:             REML   \n",
        "No. Groups:         11      Scale:              0.0200 \n",
        "Min. group size:    1       Likelihood:         19.0089\n",
        "Max. group size:    21      Converged:          Yes    \n",
        "Mean group size:    5.6                                \n",
        "-------------------------------------------------------\n",
        "             Coef.  Std.Err.   z    P>|z| [0.025 0.975]\n",
        "-------------------------------------------------------\n",
        "Intercept     0.502    0.076  6.561 0.000  0.352  0.651\n",
        "Inflammation  0.401    0.192  2.087 0.037  0.024  0.778\n",
        "FociSize     -0.405    0.187 -2.168 0.030 -0.771 -0.039\n",
        "Intercept RE  0.041    0.198                           \n",
        "=======================================================\n",
        "\n",
        "Intercept       0.076461\n",
        "Inflammation    0.192210\n",
        "FociSize        0.186801\n",
        "Intercept RE    1.403026\n",
        "dtype: float64\n",
        "Intercept RE    0.19819\n",
        "dtype: float64\n",
        "Intercept       0.076461\n",
        "Inflammation    0.192210\n",
        "FociSize        0.186801\n",
        "dtype: float64\n"
       ]
      }
     ],
     "prompt_number": 231
    },
    {
     "cell_type": "code",
     "collapsed": false,
     "input": [
      "histo.columns"
     ],
     "language": "python",
     "metadata": {},
     "outputs": [
      {
       "metadata": {},
       "output_type": "pyout",
       "prompt_number": 526,
       "text": [
        "Index([u'Sheep', u'Lobular_collapse', u'Interface_hepatitis', u'Confluent_necrosis', u'Ln_ap_ri', u'Portal_inflammation', u'BD_hyperplasia', u'Fibrosis', u'TawfikTotal', u'Mean_hep_size', u'Min_hep_size', u'Max_hep_size'], dtype='object')"
       ]
      }
     ],
     "prompt_number": 526
    },
    {
     "cell_type": "code",
     "collapsed": false,
     "input": [
      "y1, y2 = mmPredict(df, ols)\n",
      "plt.scatter(y1, y2)\n",
      "plt.plot(y1,y1)"
     ],
     "language": "python",
     "metadata": {},
     "outputs": [
      {
       "metadata": {},
       "output_type": "pyout",
       "prompt_number": 382,
       "text": [
        "[<matplotlib.lines.Line2D at 0x141d05d10>]"
       ]
      },
      {
       "metadata": {},
       "output_type": "display_data",
       "png": "[encoded data removed]",
       "text": [
        "<matplotlib.figure.Figure at 0x141d05050>"
       ]
      }
     ],
     "prompt_number": 382
    },
    {
     "cell_type": "code",
     "collapsed": false,
     "input": [],
     "language": "python",
     "metadata": {},
     "outputs": [
      {
       "html": [
        "<div style=\"max-height:1000px;max-width:1500px;overflow:auto;\">\n",
        "<table border=\"1\" class=\"dataframe\">\n",
        "  <thead>\n",
        "    <tr style=\"text-align: right;\">\n",
        "      <th></th>\n",
        "      <th>Sheep</th>\n",
        "      <th>Image</th>\n",
        "      <th>Lacunarity</th>\n",
        "      <th>Entropy</th>\n",
        "      <th>FociCount</th>\n",
        "      <th>FociSize</th>\n",
        "      <th>Scale</th>\n",
        "      <th>Directionality</th>\n",
        "      <th>TissueToSinusoid</th>\n",
        "      <th>LobularCollapse</th>\n",
        "      <th>...</th>\n",
        "      <th>Sex</th>\n",
        "      <th>AgeAtDeath</th>\n",
        "      <th>Weight</th>\n",
        "      <th>Foreleg</th>\n",
        "      <th>Hindleg</th>\n",
        "      <th>BirthYear</th>\n",
        "      <th>E</th>\n",
        "      <th>CES</th>\n",
        "      <th>RES</th>\n",
        "      <th>Inflammation</th>\n",
        "    </tr>\n",
        "  </thead>\n",
        "  <tbody>\n",
        "  </tbody>\n",
        "</table>\n",
        "<p>0 rows \u00d7 31 columns</p>\n",
        "</div>"
       ],
       "metadata": {},
       "output_type": "pyout",
       "prompt_number": 33,
       "text": [
        "Empty DataFrame\n",
        "Columns: [Sheep, Image, Lacunarity, Entropy, FociCount, FociSize, Scale, Directionality, TissueToSinusoid, LobularCollapse, InterfaceHepatitis, ConfluentNecrosis, LnApRi, PortalInflammation, BDHyperplasia, Fibrosis, TawfikTotal, MeanHepSize, MinHepSize, MaxHepSize, ID, Sex, AgeAtDeath, Weight, Foreleg, Hindleg, BirthYear, E, CES, RES, Inflammation]\n",
        "Index: []\n",
        "\n",
        "[0 rows x 31 columns]"
       ]
      }
     ],
     "prompt_number": 33
    },
    {
     "cell_type": "code",
     "collapsed": false,
     "input": [
      "ols = pd.stats.api.ols(y = avesc.Portal_inflammation, x = avesc.Inflammation)\n",
      "print ols.summary"
     ],
     "language": "python",
     "metadata": {},
     "outputs": []
    },
    {
     "cell_type": "code",
     "collapsed": false,
     "input": [
      "plt.scatter(avesc.FociSize, avesc.Portal_inflammation)\n",
      "plt.plot(avesc.FociSize, avesc.FociSize * ols.beta[0] + ols.beta[1])\n",
      "plt.title(\"p = %.02e\" % ols.p_value[0])"
     ],
     "language": "python",
     "metadata": {},
     "outputs": []
    },
    {
     "cell_type": "code",
     "collapsed": false,
     "input": [
      "ols2 = pd.stats.api.ols(y = avesc.BD_hyperplasia, x = avesc[[\"FociSize\", \"Directionality\", \"Scale\"]])\n",
      "print ols2.summary"
     ],
     "language": "python",
     "metadata": {},
     "outputs": []
    },
    {
     "cell_type": "code",
     "collapsed": false,
     "input": [
      "X = [\"FociSize\", \"Directionality\", \"Scale\"]\n",
      "x = (ols2.beta[-1] + \n",
      "    ols2.beta[0] * avesc[X[0]] +\n",
      "    ols2.beta[1] * avesc[X[1]] + \n",
      "    ols2.beta[2] * avesc[X[2]])\n",
      "y = avesc.BD_hyperplasia\n",
      "\n",
      "plt.scatter(x, y)\n",
      "#plt.plot([0, 1], [- 0.0504, 1- 0.0504] )\n",
      "#plt.plot(y, x)\n",
      "\n",
      "#plt.scatter(avesc.FociSize, avesc.Portal_inflammation)\n",
      "#plt.plot(avesc.FociSize, avesc.FociSize * ols.beta[0] + ols.beta[1])\n",
      "#plt.title(\"p = %.02e\" % ols.p_value[0])"
     ],
     "language": "python",
     "metadata": {},
     "outputs": []
    },
    {
     "cell_type": "code",
     "collapsed": false,
     "input": [
      "ols3 = pd.stats.api.ols(y = avesc.Portal_inflammation, x = avesc.Inflammation)\n",
      "plt.scatter(avesc.Inflammation, avesc.Portal_inflammation)\n",
      "plt.plot(avesc.Inflammation, avesc.Inflammation * ols3.beta[0] + ols3.beta[1])\n",
      "print ols3.summary"
     ],
     "language": "python",
     "metadata": {},
     "outputs": []
    },
    {
     "cell_type": "code",
     "collapsed": false,
     "input": [
      "ols4 = pd.stats.api.ols(y = avesc.QTotal, x = avesc.TawfikTotal)\n",
      "plt.scatter(avesc.TawfikTotal, avesc.QTotal)\n",
      "plt.plot(avesc.TawfikTotal, avesc.TawfikTotal * ols4.beta[0] + ols4.beta[1])\n",
      "print ols4.summary"
     ],
     "language": "python",
     "metadata": {},
     "outputs": []
    },
    {
     "cell_type": "code",
     "collapsed": false,
     "input": [
      "df2 = sheep[[\"TawfikTotal\", \"Entropy\", \"AgeAtDeath\"]]\n",
      "df2.dropna(inplace=True)\n",
      "ols = MixedLM.from_formula(rstr(\"TawfikTotal\", [\"Entropy\"]), data=df2, groups=\"AgeAtDeath\").fit()\n",
      "\n",
      "ols.pvalues[1:-1].values"
     ],
     "language": "python",
     "metadata": {},
     "outputs": [
      {
       "metadata": {},
       "output_type": "pyout",
       "prompt_number": 118,
       "text": [
        "array([ 0.03245166])"
       ]
      }
     ],
     "prompt_number": 118
    },
    {
     "cell_type": "code",
     "collapsed": false,
     "input": [
      "df = sheep[[\"Inflammation\", \"Mean_hep_size\", \"FociSize\"]].dropna()\n",
      "df[\"Intercept\"] = np.ones(len(df))\n",
      "ols = sm.GLS(endog=df.Mean_hep_size, exog=df[[\"Inflammation\", \"FociSize\"]]).fit()\n",
      "ols.rsquared"
     ],
     "language": "python",
     "metadata": {},
     "outputs": [
      {
       "metadata": {},
       "output_type": "pyout",
       "prompt_number": 15,
       "text": [
        "0.76761147156602549"
       ]
      }
     ],
     "prompt_number": 15
    },
    {
     "cell_type": "code",
     "collapsed": false,
     "input": [
      "mmR2(df, ols)\n",
      "\n",
      "\n",
      "\n",
      "\n",
      "\n",
      "\n",
      "print \"YO\""
     ],
     "language": "python",
     "metadata": {},
     "outputs": []
    },
    {
     "cell_type": "code",
     "collapsed": false,
     "input": [
      "print \"YO\""
     ],
     "language": "python",
     "metadata": {},
     "outputs": [
      {
       "output_type": "stream",
       "stream": "stdout",
       "text": [
        "YO\n"
       ]
      }
     ],
     "prompt_number": 1
    },
    {
     "cell_type": "code",
     "collapsed": false,
     "input": [
      "y = pca.fit_transform(s[histcols])"
     ],
     "language": "python",
     "metadata": {},
     "outputs": []
    },
    {
     "cell_type": "code",
     "collapsed": false,
     "input": [
      "mm, mmfits, mmpvals, mmqsum = test_all_linear(sheep, [\"TawfikTotal\"], imagecols, group=\"AgeAtDeath\")"
     ],
     "language": "python",
     "metadata": {},
     "outputs": []
    },
    {
     "cell_type": "code",
     "collapsed": false,
     "input": [
      "df = sheep[delayer([\"TawfikTotal\", \"Inflammation\", \"ResidualES\"])].dropna()\n",
      "df[\"Intercept\"] = np.ones(len(df))\n",
      "tt = MixedLM(endog = df.TawfikTotal, exog = df[[\"Inflammation\"]], groups=df.ResidualES).fit()\n",
      "tt.summary()\n",
      "#del fibrosis.tables[2]\n",
      "\n"
     ],
     "language": "python",
     "metadata": {},
     "outputs": []
    },
    {
     "cell_type": "code",
     "collapsed": false,
     "input": [
      "models, fits, pvals, blah = test_all_linear(sheep, [\"Ln_ap_ri\"], imagecols, group=\"AgeAtDeath\")"
     ],
     "language": "python",
     "metadata": {},
     "outputs": []
    },
    {
     "cell_type": "code",
     "collapsed": false,
     "input": [
      "np.where(np.array(fits[\"Ln_ap_ri\"]) < (2 + np.min(fits[\"Ln_ap_ri\"])))"
     ],
     "language": "python",
     "metadata": {},
     "outputs": []
    },
    {
     "cell_type": "code",
     "collapsed": false,
     "input": [
      "idx = 0\n",
      "print models[\"Ln_ap_ri\"][idx].summary()\n",
      "print fits[\"Ln_ap_ri\"][idx]"
     ],
     "language": "python",
     "metadata": {},
     "outputs": []
    },
    {
     "cell_type": "code",
     "collapsed": false,
     "input": [
      "a.model.endog_names\n",
      "\n",
      "plt.scatter(y, yhat, c=seaborn.color_palette(\"deep\", 8)[0])\n",
      "plt.plot(y, y, c=seaborn.color_palette(\"deep\", 8)[2])\n",
      "plt.xlabel(a.model.endog_names)\n",
      "yl = a.model.exog_names\n",
      "#yl.remove(\"Intercept\")\n",
      "plt.ylabel(\", \".join(yl))\n",
      "plt.title(\"R2 = %.02f\")\n",
      "st = \"%s : %.03f, p = %.03e.\\n\" * len(yl)\n",
      "stl = []\n",
      "for i in range(len(yl)) :\n",
      "    stl.append(yl[i])\n",
      "    stl.append(p[dependent][i])\n",
      "plt.suptitle(st % tuple(delayer([yl[i], p[dependent][i] for i in range(len(yl))\n"
     ],
     "language": "python",
     "metadata": {},
     "outputs": [
      {
       "metadata": {},
       "output_type": "pyout",
       "prompt_number": 420,
       "text": [
        "<matplotlib.text.Text at 0x11872d110>"
       ]
      },
      {
       "metadata": {},
       "output_type": "display_data",
       "png": "[encoded data removed]",
       "text": [
        "<matplotlib.figure.Figure at 0x122780c10>"
       ]
      }
     ],
     "prompt_number": 420
    },
    {
     "cell_type": "code",
     "collapsed": false,
     "input": [
      "a.model.exog_names"
     ],
     "language": "python",
     "metadata": {},
     "outputs": [
      {
       "metadata": {},
       "output_type": "pyout",
       "prompt_number": 421,
       "text": [
        "['Inflammation', 'FociSize']"
       ]
      }
     ],
     "prompt_number": 421
    },
    {
     "cell_type": "code",
     "collapsed": false,
     "input": [],
     "language": "python",
     "metadata": {},
     "outputs": []
    },
    {
     "cell_type": "code",
     "collapsed": false,
     "input": [
      "raw_data[raw_data.TissueToSinusoid == raw_data.TissueToSinusoid.max()]"
     ],
     "language": "python",
     "metadata": {},
     "outputs": [
      {
       "html": [
        "<div style=\"max-height:1000px;max-width:1500px;overflow:auto;\">\n",
        "<table border=\"1\" class=\"dataframe\">\n",
        "  <thead>\n",
        "    <tr style=\"text-align: right;\">\n",
        "      <th></th>\n",
        "      <th>Sheep</th>\n",
        "      <th>Image</th>\n",
        "      <th>Lacunarity</th>\n",
        "      <th>Entropy</th>\n",
        "      <th>FociCount</th>\n",
        "      <th>FociSize</th>\n",
        "      <th>Scale</th>\n",
        "      <th>Directionality</th>\n",
        "      <th>TissueToSinusoid</th>\n",
        "      <th>LobularCollapse</th>\n",
        "      <th>...</th>\n",
        "      <th>Sex</th>\n",
        "      <th>AgeAtDeath</th>\n",
        "      <th>Weight</th>\n",
        "      <th>Foreleg</th>\n",
        "      <th>Hindleg</th>\n",
        "      <th>BirthYear</th>\n",
        "      <th>E</th>\n",
        "      <th>CES</th>\n",
        "      <th>RES</th>\n",
        "      <th>Inflammation</th>\n",
        "    </tr>\n",
        "  </thead>\n",
        "  <tbody>\n",
        "    <tr>\n",
        "      <th>1004</th>\n",
        "      <td> 41</td>\n",
        "      <td> 116</td>\n",
        "      <td> 0.128041</td>\n",
        "      <td> 0.620546</td>\n",
        "      <td> 13</td>\n",
        "      <td> 467.384615</td>\n",
        "      <td> 25</td>\n",
        "      <td> 0.157612</td>\n",
        "      <td> 0.56434</td>\n",
        "      <td>NaN</td>\n",
        "      <td>...</td>\n",
        "      <td> 1</td>\n",
        "      <td> 4</td>\n",
        "      <td> 21.2</td>\n",
        "      <td> 126</td>\n",
        "      <td> 182</td>\n",
        "      <td> 2007</td>\n",
        "      <td> 0.5</td>\n",
        "      <td> 3.219869</td>\n",
        "      <td>-0.268686</td>\n",
        "      <td> 6076</td>\n",
        "    </tr>\n",
        "  </tbody>\n",
        "</table>\n",
        "<p>1 rows \u00d7 31 columns</p>\n",
        "</div>"
       ],
       "metadata": {},
       "output_type": "pyout",
       "prompt_number": 45,
       "text": [
        "      Sheep  Image  Lacunarity   Entropy  FociCount    FociSize  Scale  \\\n",
        "1004     41    116    0.128041  0.620546         13  467.384615     25   \n",
        "\n",
        "      Directionality  TissueToSinusoid  LobularCollapse      ...       Sex  \\\n",
        "1004        0.157612           0.56434              NaN      ...         1   \n",
        "\n",
        "      AgeAtDeath  Weight  Foreleg  Hindleg  BirthYear    E       CES  \\\n",
        "1004           4    21.2      126      182       2007  0.5  3.219869   \n",
        "\n",
        "           RES  Inflammation  \n",
        "1004 -0.268686          6076  \n",
        "\n",
        "[1 rows x 31 columns]"
       ]
      }
     ],
     "prompt_number": 45
    },
    {
     "cell_type": "code",
     "collapsed": false,
     "input": [
      "df = sheep[[\"MeanHepSize\", \"Directionality\"]].dropna()\n",
      "df[\"Intercept\"] = np.ones(len(df))\n",
      "ols = sm.GLS(endog=df.MeanHepSize, exog=df[[\"Directionality\", \"Intercept\"]]).fit()\n",
      "ols.summary()"
     ],
     "language": "python",
     "metadata": {},
     "outputs": [
      {
       "html": [
        "<table class=\"simpletable\">\n",
        "<caption>GLS Regression Results</caption>\n",
        "<tr>\n",
        "  <th>Dep. Variable:</th>       <td>MeanHepSize</td>   <th>  R-squared:         </th> <td>   0.002</td>\n",
        "</tr>\n",
        "<tr>\n",
        "  <th>Model:</th>                   <td>GLS</td>       <th>  Adj. R-squared:    </th> <td>  -0.008</td>\n",
        "</tr>\n",
        "<tr>\n",
        "  <th>Method:</th>             <td>Least Squares</td>  <th>  F-statistic:       </th> <td>  0.2341</td>\n",
        "</tr>\n",
        "<tr>\n",
        "  <th>Date:</th>             <td>Mon, 24 Nov 2014</td> <th>  Prob (F-statistic):</th>  <td> 0.630</td> \n",
        "</tr>\n",
        "<tr>\n",
        "  <th>Time:</th>                 <td>14:51:02</td>     <th>  Log-Likelihood:    </th> <td>  47.035</td>\n",
        "</tr>\n",
        "<tr>\n",
        "  <th>No. Observations:</th>      <td>    97</td>      <th>  AIC:               </th> <td>  -90.07</td>\n",
        "</tr>\n",
        "<tr>\n",
        "  <th>Df Residuals:</th>          <td>    95</td>      <th>  BIC:               </th> <td>  -84.92</td>\n",
        "</tr>\n",
        "<tr>\n",
        "  <th>Df Model:</th>              <td>     1</td>      <th>                     </th>     <td> </td>   \n",
        "</tr>\n",
        "<tr>\n",
        "  <th>Covariance Type:</th>      <td>nonrobust</td>    <th>                     </th>     <td> </td>   \n",
        "</tr>\n",
        "</table>\n",
        "<table class=\"simpletable\">\n",
        "<tr>\n",
        "         <td></td>           <th>coef</th>     <th>std err</th>      <th>t</th>      <th>P>|t|</th> <th>[95.0% Conf. Int.]</th> \n",
        "</tr>\n",
        "<tr>\n",
        "  <th>Directionality</th> <td>    0.0364</td> <td>    0.075</td> <td>    0.484</td> <td> 0.630</td> <td>   -0.113     0.186</td>\n",
        "</tr>\n",
        "<tr>\n",
        "  <th>Intercept</th>      <td>    0.5481</td> <td>    0.027</td> <td>   20.566</td> <td> 0.000</td> <td>    0.495     0.601</td>\n",
        "</tr>\n",
        "</table>\n",
        "<table class=\"simpletable\">\n",
        "<tr>\n",
        "  <th>Omnibus:</th>       <td> 6.787</td> <th>  Durbin-Watson:     </th> <td>   2.185</td>\n",
        "</tr>\n",
        "<tr>\n",
        "  <th>Prob(Omnibus):</th> <td> 0.034</td> <th>  Jarque-Bera (JB):  </th> <td>  11.331</td>\n",
        "</tr>\n",
        "<tr>\n",
        "  <th>Skew:</th>          <td>-0.138</td> <th>  Prob(JB):          </th> <td> 0.00346</td>\n",
        "</tr>\n",
        "<tr>\n",
        "  <th>Kurtosis:</th>      <td> 4.651</td> <th>  Cond. No.          </th> <td>    5.35</td>\n",
        "</tr>\n",
        "</table>"
       ],
       "metadata": {},
       "output_type": "pyout",
       "prompt_number": 50,
       "text": [
        "<class 'statsmodels.iolib.summary.Summary'>\n",
        "\"\"\"\n",
        "                            GLS Regression Results                            \n",
        "==============================================================================\n",
        "Dep. Variable:            MeanHepSize   R-squared:                       0.002\n",
        "Model:                            GLS   Adj. R-squared:                 -0.008\n",
        "Method:                 Least Squares   F-statistic:                    0.2341\n",
        "Date:                Mon, 24 Nov 2014   Prob (F-statistic):              0.630\n",
        "Time:                        14:51:02   Log-Likelihood:                 47.035\n",
        "No. Observations:                  97   AIC:                            -90.07\n",
        "Df Residuals:                      95   BIC:                            -84.92\n",
        "Df Model:                           1                                         \n",
        "Covariance Type:            nonrobust                                         \n",
        "==================================================================================\n",
        "                     coef    std err          t      P>|t|      [95.0% Conf. Int.]\n",
        "----------------------------------------------------------------------------------\n",
        "Directionality     0.0364      0.075      0.484      0.630        -0.113     0.186\n",
        "Intercept          0.5481      0.027     20.566      0.000         0.495     0.601\n",
        "==============================================================================\n",
        "Omnibus:                        6.787   Durbin-Watson:                   2.185\n",
        "Prob(Omnibus):                  0.034   Jarque-Bera (JB):               11.331\n",
        "Skew:                          -0.138   Prob(JB):                      0.00346\n",
        "Kurtosis:                       4.651   Cond. No.                         5.35\n",
        "==============================================================================\n",
        "\n",
        "Warnings:\n",
        "[1] Standard Errors assume that the covariance matrix of the errors is correctly specified.\n",
        "\"\"\""
       ]
      }
     ],
     "prompt_number": 50
    },
    {
     "cell_type": "code",
     "collapsed": false,
     "input": [],
     "language": "python",
     "metadata": {},
     "outputs": [
      {
       "metadata": {},
       "output_type": "pyout",
       "prompt_number": 54,
       "text": [
        "<matplotlib.axes._subplots.AxesSubplot at 0x1189a4210>"
       ]
      },
      {
       "metadata": {},
       "output_type": "display_data",
       "png": "[encoded data removed]",
       "text": [
        "<matplotlib.figure.Figure at 0x1189ad1d0>"
       ]
      }
     ],
     "prompt_number": 54
    }
   ],
   "metadata": {}
  }
 ]
}