{
 "metadata": {
  "celltoolbar": "Slideshow",
  "name": "",
  "signature": "sha256:5dfa5098b5370799316e25d5c2a66062a5f6b75c6502b8192cbf3896a72c9b71"
 },
 "nbformat": 3,
 "nbformat_minor": 0,
 "worksheets": [
  {
   "cells": [
    {
     "cell_type": "code",
     "collapsed": false,
     "input": [
      "import numpy as np\n",
      "import pandas as pd\n",
      "import matplotlib.pyplot as plt\n",
      "import seaborn\n",
      "from matplotlib import rcParams\n",
      "rcParams[\"figure.figsize\"] = (14, 8)\n",
      "rcParams[\"xtick.labelsize\"] = 12\n",
      "rcParams[\"ytick.labelsize\"] = 12\n",
      "rcParams[\"font.size\"] = 14\n",
      "rcParams[\"axes.titlesize\"] = 16\n",
      "#rcParams[\"text.usetex\"] = False\n",
      "rcParams[\"font.family\"] = \"Serif\"\n",
      "rcParams[\"figure.dpi\"] = 600\n",
      "\n",
      "\n",
      "a = pd.read_csv(\"../data/villagebay_population.csv\")\n",
      "b = pd.read_csv(\"../data/exposure.csv\")\n",
      "\n",
      "fig, (ax, ax2) = plt.subplots(2, 1, sharex=True)\n",
      "\n",
      "#ax = plt.subplot(211)\n",
      "ax.plot(a.Year, a.VillageBay, c=seaborn.color_palette(\"deep\", 8)[0], lw=3)\n",
      "ax.scatter(a.Year, a.VillageBay, c=seaborn.color_palette(\"deep\", 8)[0], s=50)\n",
      "ax.set_title(\"Village Bay Population\")\n",
      "ax.set_ylim([180, 700])\n",
      "\n",
      "\n",
      "#ax2 = plt.subplot(212, sharex=ax)\n",
      "\n",
      "ax2.plot(b.BirthYear, b.AvgOfLambWS, c=seaborn.color_palette(\"deep\", 8)[2], lw=3)\n",
      "ax2.scatter(b.BirthYear, b.AvgOfLambWS, c=seaborn.color_palette(\"deep\", 8)[2], s=50)\n",
      "ax2.set_title(\"Lamb Winter Survival\")\n",
      "ax2.set_xlim([1984.5, 2013.5])\n",
      "ax2.set_ylim([0, 0.8])\n",
      "\n",
      "plt.savefig(\"figures/population2.jpg\", dpi=300, jpeg_quality=100)\n"
     ],
     "language": "python",
     "metadata": {
      "slideshow": {
       "slide_type": "skip"
      }
     },
     "outputs": [],
     "prompt_number": 30
    },
    {
     "cell_type": "heading",
     "level": 1,
     "metadata": {
      "slideshow": {
       "slide_type": "slide"
      }
     },
     "source": [
      "Robust Extraction of Quantitative Information from Histology Images"
     ]
    },
    {
     "cell_type": "heading",
     "level": 4,
     "metadata": {},
     "source": [
      "Quentin Caudron"
     ]
    },
    {
     "cell_type": "heading",
     "level": 2,
     "metadata": {
      "slideshow": {
       "slide_type": "slide"
      }
     },
     "source": [
      "The Soay Sheep"
     ]
    },
    {
     "cell_type": "markdown",
     "metadata": {
      "slideshow": {
       "slide_type": "subslide"
      }
     },
     "source": [
      "<img src=\"figures/graphics/soay.jpg\" />"
     ]
    },
    {
     "cell_type": "markdown",
     "metadata": {
      "slideshow": {
       "slide_type": "subslide"
      }
     },
     "source": [
      "<img src=\"figures/graphics/population2.jpg\" />"
     ]
    },
    {
     "cell_type": "markdown",
     "metadata": {
      "slideshow": {
       "slide_type": "subslide"
      }
     },
     "source": [
      "<img src=\"figures/graphics/lit1.jpg\" />"
     ]
    },
    {
     "cell_type": "markdown",
     "metadata": {
      "slideshow": {
       "slide_type": "fragment"
      }
     },
     "source": [
      "<img src=\"figures/graphics/lit2.jpg\" />"
     ]
    },
    {
     "cell_type": "markdown",
     "metadata": {
      "slideshow": {
       "slide_type": "fragment"
      }
     },
     "source": [
      "<img src=\"figures/graphics/lit4.jpg\" />"
     ]
    },
    {
     "cell_type": "heading",
     "level": 2,
     "metadata": {
      "slideshow": {
       "slide_type": "slide"
      }
     },
     "source": [
      "Outline"
     ]
    },
    {
     "cell_type": "markdown",
     "metadata": {},
     "source": [
      "- Methods and data collection\n",
      "- Image processing\n",
      "- Extracted measures\n",
      "- Preliminary analysis\n",
      "- Future directions"
     ]
    },
    {
     "cell_type": "heading",
     "level": 2,
     "metadata": {
      "slideshow": {
       "slide_type": "slide"
      }
     },
     "source": [
      "Data"
     ]
    },
    {
     "cell_type": "markdown",
     "metadata": {},
     "source": [
      "**In the field, winter of 2011 - 2012 :**\n",
      "    \n",
      "- Daily study area monitoring for deaths\n",
      "- 143 liver samples collected within a day of death"
     ]
    },
    {
     "cell_type": "markdown",
     "metadata": {
      "slideshow": {
       "slide_type": "fragment"
      }
     },
     "source": [
      "**In the lab :**\n",
      "\n",
      "- Sectioning after paraffin treatment\n",
      "- H&E staining of about 1000 slides"
     ]
    },
    {
     "cell_type": "markdown",
     "metadata": {
      "slideshow": {
       "slide_type": "fragment"
      }
     },
     "source": [
      "**Analysis :**\n",
      "\n",
      "- Pathology standard : semi-quantitative scoring\n",
      "- Image processing"
     ]
    },
    {
     "cell_type": "heading",
     "level": 3,
     "metadata": {
      "slideshow": {
       "slide_type": "subslide"
      }
     },
     "source": [
      "The Field &copy;"
     ]
    },
    {
     "cell_type": "markdown",
     "metadata": {},
     "source": [
      "Sweat-and-blood-collected in cold, cold Scotland."
     ]
    },
    {
     "cell_type": "markdown",
     "metadata": {
      "slideshow": {
       "slide_type": "fragment"
      }
     },
     "source": [
      "Eight physical measurements :\n",
      "- Age at death\n",
      "- Weight\n",
      "- Sex\n",
      "- Limb length\n",
      "- Environmental \"stress\""
     ]
    },
    {
     "cell_type": "heading",
     "level": 3,
     "metadata": {
      "slideshow": {
       "slide_type": "subslide"
      }
     },
     "source": [
      "Clinical Pathology"
     ]
    },
    {
     "cell_type": "markdown",
     "metadata": {},
     "source": [
      "Operator-driven visual analysis of 98 slides under microscopy."
     ]
    },
    {
     "cell_type": "markdown",
     "metadata": {
      "slideshow": {
       "slide_type": "fragment"
      }
     },
     "source": [
      "Eleven discrete and continuous measures :\n",
      "\n",
      "- Inflammation\n",
      "- Necrosis\n",
      "- Apoptosis\n",
      "- Hyperplasia\n",
      "- Fibrosis\n",
      "- Hepatitis"
     ]
    },
    {
     "cell_type": "heading",
     "level": 3,
     "metadata": {
      "slideshow": {
       "slide_type": "subslide"
      }
     },
     "source": [
      "Image Processing"
     ]
    },
    {
     "cell_type": "markdown",
     "metadata": {},
     "source": [
      "Automated analysis of 4430 images of slides representing 143 sheep."
     ]
    },
    {
     "cell_type": "markdown",
     "metadata": {
      "slideshow": {
       "slide_type": "fragment"
      }
     },
     "source": [
      "Seven structural and textural measures with varying levels of biological interpretation :\n",
      "\n",
      "- Inflammation\n",
      "- Hyperplasia / tissue density\n",
      "- Best-guess proxies for \"generic degeneration\""
     ]
    },
    {
     "cell_type": "heading",
     "level": 2,
     "metadata": {
      "slideshow": {
       "slide_type": "slide"
      }
     },
     "source": [
      "Image Processing"
     ]
    },
    {
     "cell_type": "markdown",
     "metadata": {
      "slideshow": {
       "slide_type": "subslide"
      }
     },
     "source": [
      "<img src=\"figures/graphics/sheep.jpg\"></img>"
     ]
    },
    {
     "cell_type": "markdown",
     "metadata": {
      "slideshow": {
       "slide_type": "subslide"
      }
     },
     "source": [
      "<img src=\"figures/graphics/processed.jpg\"></img>"
     ]
    },
    {
     "cell_type": "heading",
     "level": 3,
     "metadata": {
      "slideshow": {
       "slide_type": "subslide"
      }
     },
     "source": [
      "The Challenge"
     ]
    },
    {
     "cell_type": "markdown",
     "metadata": {
      "slideshow": {
       "slide_type": "-"
      }
     },
     "source": [
      "**Information extraction must be**\n",
      "- automagical - no operator input\n",
      "- reasonably quick - restricted computing time\n",
      "- robust - invariant to slicing, staining, field-related variation \n",
      "- unbiased - same algorithms for everyone"
     ]
    },
    {
     "cell_type": "markdown",
     "metadata": {
      "slideshow": {
       "slide_type": "subslide"
      }
     },
     "source": [
      "![image](figures/graphics/robust3.jpg)"
     ]
    },
    {
     "cell_type": "markdown",
     "metadata": {
      "slideshow": {
       "slide_type": "subslide"
      }
     },
     "source": [
      "![image](figures/graphics/robust4.jpg)"
     ]
    },
    {
     "cell_type": "markdown",
     "metadata": {
      "slideshow": {
       "slide_type": "subslide"
      }
     },
     "source": [
      "![image](figures/graphics/robust1.jpg)"
     ]
    },
    {
     "cell_type": "markdown",
     "metadata": {
      "slideshow": {
       "slide_type": "subslide"
      }
     },
     "source": [
      "![image](figures/graphics/robust2.jpg)"
     ]
    },
    {
     "cell_type": "markdown",
     "metadata": {
      "slideshow": {
       "slide_type": "subslide"
      }
     },
     "source": [
      "<img src=\"figures/graphics/gif.gif\"></img>"
     ]
    },
    {
     "cell_type": "heading",
     "level": 2,
     "metadata": {
      "slideshow": {
       "slide_type": "slide"
      }
     },
     "source": [
      "Structural and Textural Measures"
     ]
    },
    {
     "cell_type": "markdown",
     "metadata": {
      "slideshow": {
       "slide_type": "subslide"
      }
     },
     "source": [
      "- characteristic **scale** of sinusoid widths\n",
      "- **directional** amplitude of preferred sinusoid alignment\n",
      "- **tissue to sinusoid** ratio\n",
      "- **count** of inflammatory foci per image\n",
      "- **mean size** of inflammatory foci per image\n",
      "- information **entropy** of sinusoid distribution\n",
      "- **lacunarity** ( clustering ) of sinusoids"
     ]
    },
    {
     "cell_type": "markdown",
     "metadata": {
      "slideshow": {
       "slide_type": "subslide"
      }
     },
     "source": [
      "![image](figures/graphics/intra.png)"
     ]
    },
    {
     "cell_type": "markdown",
     "metadata": {
      "slideshow": {
       "slide_type": "subslide"
      }
     },
     "source": [
      "![image](figures/graphics/inter2.png)"
     ]
    },
    {
     "cell_type": "heading",
     "level": 2,
     "metadata": {
      "slideshow": {
       "slide_type": "slide"
      }
     },
     "source": [
      "Exploratory Analysis"
     ]
    },
    {
     "cell_type": "heading",
     "level": 3,
     "metadata": {},
     "source": [
      "by individual"
     ]
    },
    {
     "cell_type": "markdown",
     "metadata": {
      "slideshow": {
       "slide_type": "subslide"
      }
     },
     "source": [
      "<img src=\"figures/regressions/BDHyperplasia/lm-0.png\" />"
     ]
    },
    {
     "cell_type": "markdown",
     "metadata": {
      "slideshow": {
       "slide_type": "subslide"
      }
     },
     "source": [
      "<img src=\"figures/regressions/PortalInflammation/lm-0.png\" />"
     ]
    },
    {
     "cell_type": "markdown",
     "metadata": {
      "slideshow": {
       "slide_type": "subslide"
      }
     },
     "source": [
      "<img src=\"figures/regressions/PortalInflammation/lm-1.png\" />"
     ]
    },
    {
     "cell_type": "heading",
     "level": 2,
     "metadata": {
      "slideshow": {
       "slide_type": "slide"
      }
     },
     "source": [
      "Exploratory Analysis"
     ]
    },
    {
     "cell_type": "heading",
     "level": 3,
     "metadata": {},
     "source": [
      "controlled for age / cohort"
     ]
    },
    {
     "cell_type": "markdown",
     "metadata": {
      "slideshow": {
       "slide_type": "subslide"
      }
     },
     "source": [
      "<img src=\"figures/regressions/PortalInflammation/mm_0.png\" />"
     ]
    },
    {
     "cell_type": "markdown",
     "metadata": {
      "slideshow": {
       "slide_type": "subslide"
      }
     },
     "source": [
      "<img src=\"figures/regressions/BDHyperplasia/mm_0.png\" />"
     ]
    },
    {
     "cell_type": "markdown",
     "metadata": {
      "slideshow": {
       "slide_type": "subslide"
      }
     },
     "source": [
      "<img src=\"figures/regressions/BDHyperplasia/mm_1.png\" />"
     ]
    },
    {
     "cell_type": "markdown",
     "metadata": {
      "slideshow": {
       "slide_type": "subslide"
      }
     },
     "source": [
      "<img src=\"figures/regressions/TawfikTotal/mm_0.png\" />"
     ]
    },
    {
     "cell_type": "markdown",
     "metadata": {
      "slideshow": {
       "slide_type": "subslide"
      }
     },
     "source": [
      "<img src=\"figures/regressions/Fibrosis/mm_0.png\" />"
     ]
    },
    {
     "cell_type": "markdown",
     "metadata": {
      "slideshow": {
       "slide_type": "subslide"
      }
     },
     "source": [
      "<img src=\"figures/regressions/PortalInflammation/mm_0.png\" />"
     ]
    },
    {
     "cell_type": "markdown",
     "metadata": {
      "slideshow": {
       "slide_type": "subslide"
      }
     },
     "source": [
      "<img src=\"figures/regressions/Hindleg/mm_0.png\" />"
     ]
    },
    {
     "cell_type": "markdown",
     "metadata": {
      "slideshow": {
       "slide_type": "subslide"
      }
     },
     "source": [
      "<img src=\"figures/regressions/Weight/mm_0.png\" />"
     ]
    },
    {
     "cell_type": "heading",
     "level": 2,
     "metadata": {
      "slideshow": {
       "slide_type": "slide"
      }
     },
     "source": [
      "Further analysis"
     ]
    },
    {
     "cell_type": "heading",
     "level": 3,
     "metadata": {},
     "source": [
      "Age or cohort effect ?"
     ]
    },
    {
     "cell_type": "markdown",
     "metadata": {
      "slideshow": {
       "slide_type": "subslide"
      }
     },
     "source": [
      "<img src=\"figures/regressions/BDHyperplasia/mm_coefs_color_E.png\" />"
     ]
    },
    {
     "cell_type": "markdown",
     "metadata": {
      "slideshow": {
       "slide_type": "subslide"
      }
     },
     "source": [
      "<img src=\"figures/regressions/BDHyperplasia/mm_coefs_color_CES.png\" />"
     ]
    },
    {
     "cell_type": "markdown",
     "metadata": {
      "slideshow": {
       "slide_type": "subslide"
      }
     },
     "source": [
      "<img src=\"figures/regressions/BDHyperplasia/mm_coefs_color_RES.png\" />"
     ]
    },
    {
     "cell_type": "heading",
     "level": 2,
     "metadata": {
      "slideshow": {
       "slide_type": "slide"
      }
     },
     "source": [
      "Conclusions"
     ]
    },
    {
     "cell_type": "markdown",
     "metadata": {},
     "source": [
      "- our image measures capture **relevant** and **useful** information\n",
      "- a number of correlations can be **explained** biologically\n",
      "- underlying **structure** in the data needs thought\n",
      "- still no **map** from image or histological measures to condition of individual"
     ]
    },
    {
     "cell_type": "heading",
     "level": 2,
     "metadata": {
      "slideshow": {
       "slide_type": "slide"
      }
     },
     "source": [
      "Future directions"
     ]
    },
    {
     "cell_type": "heading",
     "level": 3,
     "metadata": {
      "slideshow": {
       "slide_type": "subslide"
      }
     },
     "source": [
      "Further exploration of the dataset"
     ]
    },
    {
     "cell_type": "markdown",
     "metadata": {
      "slideshow": {
       "slide_type": "-"
      }
     },
     "source": [
      "- 145 sheep ( 89 females )\n",
      "- 12 age classes\n",
      "- potential redundancy in various measures"
     ]
    },
    {
     "cell_type": "markdown",
     "metadata": {
      "slideshow": {
       "slide_type": "fragment"
      }
     },
     "source": [
      "- 4460 entries across 27 variables\n",
      "- 3330 with full image and histological information\n",
      "- 1196 for which **complete** information is available"
     ]
    },
    {
     "cell_type": "heading",
     "level": 3,
     "metadata": {
      "slideshow": {
       "slide_type": "subslide"
      }
     },
     "source": [
      "More data"
     ]
    },
    {
     "cell_type": "markdown",
     "metadata": {},
     "source": [
      "- nutritional information\n",
      "- immunity data"
     ]
    },
    {
     "cell_type": "heading",
     "level": 3,
     "metadata": {
      "slideshow": {
       "slide_type": "subslide"
      }
     },
     "source": [
      "Narrow-field images"
     ]
    },
    {
     "cell_type": "markdown",
     "metadata": {},
     "source": [
      "- 12536 images\n",
      "- spatial distribution of nuclei"
     ]
    },
    {
     "cell_type": "markdown",
     "metadata": {
      "slideshow": {
       "slide_type": "subslide"
      }
     },
     "source": [
      "![image](figures/graphics/10.jpg)"
     ]
    },
    {
     "cell_type": "markdown",
     "metadata": {
      "slideshow": {
       "slide_type": "subslide"
      }
     },
     "source": [
      "![image](figures/graphics/Processed2.jpg)"
     ]
    },
    {
     "cell_type": "markdown",
     "metadata": {
      "slideshow": {
       "slide_type": "subslide"
      }
     },
     "source": [
      "![image](figures/graphics/Segmented.jpg)"
     ]
    },
    {
     "cell_type": "markdown",
     "metadata": {
      "slideshow": {
       "slide_type": "subslide"
      }
     },
     "source": [
      "<img src=\"figures/graphics/10x.png\" width=100%></src>"
     ]
    },
    {
     "cell_type": "heading",
     "level": 2,
     "metadata": {
      "slideshow": {
       "slide_type": "slide"
      }
     },
     "source": [
      "With thanks to"
     ]
    },
    {
     "cell_type": "markdown",
     "metadata": {},
     "source": [
      "Romain Garnier\n",
      "\n",
      "Andrea Graham\n",
      "\n",
      "Tawfik Aboellail (CSU)\n",
      "\n",
      "Bryan Grenfell\n"
     ]
    }
   ],
   "metadata": {}
  }
 ]
}